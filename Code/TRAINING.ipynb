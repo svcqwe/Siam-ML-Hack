{
  "cells": [
    {
      "cell_type": "markdown",
      "metadata": {},
      "source": [
        "**Задача классификации с последующей регрессией. Кол-во таргетов для класс-ии и регресии: 8**"
      ]
    },
    {
      "cell_type": "markdown",
      "metadata": {},
      "source": [
        "**Если бинарная метка предсказана как 1 - то находим число к этому таргету при помощи регрессионной модели; если бинарная метка 0 - то и регрессионная будет = 0**"
      ]
    },
    {
      "cell_type": "code",
      "execution_count": null,
      "metadata": {
        "id": "g10yhCNE_N9S"
      },
      "outputs": [],
      "source": [
        "import pandas as pd\n",
        "from sklearn.ensemble import RandomForestClassifier, RandomForestRegressor\n",
        "from sklearn.metrics import mean_absolute_error, f1_score\n",
        "from sklearn.multioutput import MultiOutputClassifier, MultiOutputRegressor\n",
        "from sklearn.model_selection import KFold\n",
        "from iterstrat.ml_stratifiers import MultilabelStratifiedKFold\n",
        "import pickle"
      ]
    },
    {
      "cell_type": "code",
      "execution_count": 2,
      "metadata": {
        "id": "7dOuD2IU_Rz6"
      },
      "outputs": [],
      "source": [
        "X_df = pd.read_csv('X_uuid.csv')\n",
        "X_df.drop(columns={'Unnamed: 0', 'department_name', 'user_name', 'file_name'}, inplace=True)\n",
        "X_df.drop(columns=X_df.columns[8:15], inplace=True)\n",
        "cols = X_df.columns\n",
        "X_df = X_df.fillna(0)"
      ]
    },
    {
      "cell_type": "code",
      "execution_count": 3,
      "metadata": {
        "colab": {
          "base_uri": "https://localhost:8080/"
        },
        "id": "pyDAs23J_bIz",
        "outputId": "c0cc9625-1d23-4423-8186-17eb1c08fe49"
      },
      "outputs": [],
      "source": [
        "X = (X_df[X_df.columns[8:]]).to_numpy()\n",
        "y = (X_df[X_df.columns[:8]]).to_numpy()\n",
        "y_columns = list(X_df.columns[8:15])"
      ]
    },
    {
      "cell_type": "code",
      "execution_count": null,
      "metadata": {
        "colab": {
          "base_uri": "https://localhost:8080/"
        },
        "id": "ER5RhjAG_dBA",
        "outputId": "9f84d2d1-5c2e-4104-a7ca-bf855db38267"
      },
      "outputs": [],
      "source": [
        "n_splits = 5 \n",
        "kf = MultilabelStratifiedKFold(n_splits=n_splits, shuffle=True, random_state=42)\n",
        "\n",
        "bad_f1 = 0\n",
        "best_model = None\n",
        "\n",
        "for train_index, val_index in kf.split(X, y):\n",
        "    f1_values = []\n",
        "\n",
        "    X_train, X_test = X[train_index], X[val_index]\n",
        "    y_train, y_test = y[train_index], y[val_index]\n",
        "\n",
        "    forest = RandomForestClassifier(n_estimators=1050, random_state=42, max_depth=13, class_weight='balanced', min_samples_leaf=4, min_samples_split=8, max_features=0.9, oob_score=True)\n",
        "    multi_target_forest = MultiOutputClassifier(forest, n_jobs=-1)\n",
        "    multi_target_forest.fit(X_train, y_train)\n",
        "\n",
        "    y_pred = multi_target_forest.predict(X_test)\n",
        "\n",
        "    for i, col in enumerate(y_columns):                                                     # Метрика для каждого столбца таргетов\n",
        "        val = f1_score(y_test[:, i], y_pred[:, i], average='weighted', zero_division=0)\n",
        "        f1_values.append(val)\n",
        "\n",
        "    res_f1 = min(f1_values)                   # Нужно увеличивать минимальный f1 - для этого находим самый плохой f1 из всех колонок\n",
        "\n",
        "    if(res_f1 > bad_f1):\n",
        "        bad_f1 = res_f1\n",
        "        best_model = multi_target_forest\n",
        "    print(bad_f1)"
      ]
    },
    {
      "cell_type": "code",
      "execution_count": null,
      "metadata": {},
      "outputs": [],
      "source": [
        "bad_f1"
      ]
    },
    {
      "cell_type": "code",
      "execution_count": 40,
      "metadata": {
        "id": "fmCYRttr_i0E"
      },
      "outputs": [],
      "source": [
        "with open(\"Сlassificator.pkl\", \"wb\") as f:\n",
        "    pickle.dump(best_model, f)"
      ]
    },
    {
      "cell_type": "markdown",
      "metadata": {
        "id": "cvvalmKO_lh3"
      },
      "source": [
        "# For Regression"
      ]
    },
    {
      "cell_type": "code",
      "execution_count": 41,
      "metadata": {
        "id": "bBWMFfLb_kFY"
      },
      "outputs": [],
      "source": [
        "forest_df = pd.read_csv('X_uuid.csv')\n",
        "forest_df.drop(columns={'Unnamed: 0', 'department_name', 'user_name', 'file_name'}, inplace=True)\n",
        "forest_df = forest_df.fillna(0)"
      ]
    },
    {
      "cell_type": "code",
      "execution_count": null,
      "metadata": {
        "colab": {
          "base_uri": "https://localhost:8080/"
        },
        "id": "kRtzKuXO_pv2",
        "outputId": "8a09a8cf-ebf3-401d-a8d1-6ca5120112a1"
      },
      "outputs": [
        {
          "data": {
            "text/plain": [
              "['scaler_reg.pkl']"
            ]
          },
          "execution_count": 42,
          "metadata": {},
          "output_type": "execute_result"
        }
      ],
      "source": [
        "X = forest_df[list(forest_df.columns[:8]) + list(forest_df.columns[-3:])].to_numpy()\n",
        "y = forest_df[forest_df.columns[8:15]].to_numpy()"
      ]
    },
    {
      "cell_type": "code",
      "execution_count": null,
      "metadata": {
        "colab": {
          "base_uri": "https://localhost:8080/",
          "height": 475
        },
        "collapsed": true,
        "id": "6TE0ieqf_rCz",
        "outputId": "6013c714-59ea-433e-f9e0-ed562e060ce9"
      },
      "outputs": [],
      "source": [
        "kf = KFold(n_splits=5, shuffle=True, random_state=42)\n",
        "\n",
        "bad_mae = 10000000000\n",
        "best_model_reg = None\n",
        "\n",
        "for train_index, val_index in kf.split(X):\n",
        "    mae_values = []\n",
        "\n",
        "    X_train, X_test = X[train_index], X[val_index]\n",
        "    y_train, y_test = y[train_index], y[val_index]\n",
        "\n",
        "    Regress_forest = RandomForestRegressor(n_estimators=1250, random_state=42, max_depth=14, min_samples_leaf=5, max_features=0.75, min_samples_split=8, oob_score=True)\n",
        "    Regress = MultiOutputRegressor(Regress_forest, n_jobs=-1)\n",
        "    Regress.fit(X_train, y_train)\n",
        "\n",
        "    RG_predict = Regress.predict(X_test)\n",
        "\n",
        "    for i in range(len(X_test)):                                    # Проходимся по каждому столбцу с таргетом\n",
        "        mae = mean_absolute_error(y_test[i], RG_predict[i])\n",
        "        mae_values.append(mae)\n",
        "\n",
        "    if(max(mae_values) < bad_mae):                                      # Ищем наибольшую ошибку MAE из всех столбцов таргетов, чтобы на следующих итерациях ее минимизировать\n",
        "        bad_mae = max(mae_values)\n",
        "        best_model_reg = Regress\n",
        "    print(bad_mae)"
      ]
    },
    {
      "cell_type": "code",
      "execution_count": 50,
      "metadata": {
        "id": "sUWEJkbf_seA"
      },
      "outputs": [],
      "source": [
        "with open(\"Regresor.pkl\", \"wb\") as f:\n",
        "    pickle.dump(best_model_reg, f)"
      ]
    }
  ],
  "metadata": {
    "accelerator": "TPU",
    "colab": {
      "gpuType": "V28",
      "provenance": []
    },
    "kernelspec": {
      "display_name": "Python 3",
      "name": "python3"
    },
    "language_info": {
      "codemirror_mode": {
        "name": "ipython",
        "version": 3
      },
      "file_extension": ".py",
      "mimetype": "text/x-python",
      "name": "python",
      "nbconvert_exporter": "python",
      "pygments_lexer": "ipython3",
      "version": "3.11.0"
    }
  },
  "nbformat": 4,
  "nbformat_minor": 0
}
